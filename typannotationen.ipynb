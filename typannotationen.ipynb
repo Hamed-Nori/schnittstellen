{
 "cells": [
  {
   "cell_type": "markdown",
   "metadata": {},
   "source": [
    "# Python-Typannotationen\n",
    "\n",
    "Typannotationen sind Hinweise im Code, die angeben, welche Art von Daten von Variablen, Funktionsparametern oder Rückgabewerten erwartet werden. Sie haben keinen Einfluss auf die Ausführung des Codes, sondern dienen der Dokumentation und unterstützen die statische Typprüfung."
   ]
  },
  {
   "cell_type": "markdown",
   "metadata": {},
   "source": [
    "Man kann zum Beispiel die folgende Funktion ohne Typannotationen erstellen:"
   ]
  },
  {
   "cell_type": "code",
   "execution_count": 21,
   "metadata": {},
   "outputs": [
    {
     "name": "stdout",
     "output_type": "stream",
     "text": [
      "Buzz Lightyear\n"
     ]
    }
   ],
   "source": [
    "def get_full_name(first_name, last_name):\n",
    "    full_name = f\"{first_name.capitalize()} {last_name.capitalize()}\"\n",
    "    return full_name\n",
    "\n",
    "print(get_full_name(\"buzz\", \"lightyear\"))"
   ]
  },
  {
   "cell_type": "markdown",
   "metadata": {},
   "source": [
    "Diese Funktion nimmt den Vornamen und Nachnamen als Eingabedaten und konvertiert den ersten Buchstaben in die Großschreibweise. Außerdem wird zwischen den zwei Strings ein Leerzeichen hinzugefügt und anschließend als String ausgegeben. Ein sehr einfaches Programm oder?"
   ]
  },
  {
   "cell_type": "markdown",
   "metadata": {},
   "source": [
    "Beim schreiben des Programms fällt folgendes auf: Wenn wir `first_name.capitali...` schreiben, funktioniert nicht die sogenannte \"autocompletion\". Auch wenn man `first_name.` schreibt und direkt nach dem Punktoperatur die Tastenkombination `Crtl+Space` verwendet, kommen keine Vorschläge der autocompletion. Es erscheint lediglich die Benachrichtigung: No suggestions.\n",
    "<br>\n",
    "<br>\n",
    "Wir fügen der Funktion nun Typannotationen hinzu und versuchen die autocompletion nochmal zu verwenden:"
   ]
  },
  {
   "cell_type": "code",
   "execution_count": null,
   "metadata": {},
   "outputs": [],
   "source": [
    "def get_full_name(first_name: str, last_name: str):\n",
    "    full_name = f\"{first_name.capitalize()} {last_name.capitalize()}\"\n",
    "    return full_name\n",
    "\n",
    "print(get_full_name(\"buzz\", \"lightyear\"))"
   ]
  },
  {
   "cell_type": "markdown",
   "metadata": {},
   "source": [
    "Wenn man jetzt nach dem Punktoperator `first_name.` die Tastenkombination `Crtl+Space` betätigt, wird die autocompletion funktionieren. Die Ursache ist, dass der Editor oder die IDE diese Informationen nutzt um den Entwickler bei der Programmierung zu unterstützen.\n",
    "<br>\n",
    "<br>\n",
    "Wenn wir also in unsere Funktion angeben das `first_name` und `last_name` vom Datentyp `str` sind, dann weiß die IDE genau, welche Datentypen für die Parameter, Variablen und Rückgabewerte zu erwarten sind. Dadurch kann sie Vorschläge für Methoden und Attribute machen, die für diese Typen relevant sind.\n",
    "<br>\n",
    "<br>\n",
    "Ein weiterer Vorteil der Typannotation ist die bessere Fehlerüberprüfung. Statische Typprüfer wie mypy, pyright (oft in VS Code integriert), oder ähnliche Tools prüfen den Code basierend auf den angegebenen Typannotationen. Sie erkennen mögliche Typfehler, noch bevor der Code ausgeführt wird.\n",
    "<br>\n",
    "<br>\n",
    "**Achtung:** Jupyter Notebooks bieten von Haus aus keine Echtzeit-Typprüfung oder Fehlermeldungen basierend auf Typannotationen. In Jupyter wird der Code eher als Skript ausgeführt, und Typen werden dynamisch zur Laufzeit geprüft. Dadurch gehen einige der Vorteile von Typannotationen, wie die Echtzeit-Fehlerüberprüfung, verloren. Durch die Installation von `pip install mypy` kann man jedoch die Echtzeit-Typprüfung in seinem Notebook hinzufügen. Dazu wird jedoch auch die Extension `Mypy Type Checker` benötigt.\n",
    "\n",
    "Betrachten wir dazu folgendes triviales Beispiel:"
   ]
  },
  {
   "cell_type": "code",
   "execution_count": null,
   "metadata": {},
   "outputs": [],
   "source": [
    "def add_numbers(x: int, y: int) -> int:\n",
    "    return x + y\n",
    "\n",
    "result = add_numbers(2, \"10\")\n",
    "print(result)"
   ]
  },
  {
   "cell_type": "markdown",
   "metadata": {},
   "source": [
    "Bevor man den code ausführt, erscheint bereits die Meldung: `Argument 2 to \"add_numbers\" has incompatible type \"str\"; expected \"int\" (Mypyarg-type)`"
   ]
  },
  {
   "cell_type": "markdown",
   "metadata": {},
   "source": [
    "**Wozu nun Typannotationen?**\n",
    "\n",
    "Viele Bibliotheken und Frameworks wie FastAPI oder Pydantic unterstützen Typannotationen und verwenden sie, um ihre eigenen Funktionen besser in die IDE zu integrieren. Das bedeutet, dass Methoden und Parameter mit Typannotationen dokumentiert sind, was Autovervollständigung erheblich erleichtert.\n",
    "<br>\n",
    "<br>\n",
    "In modernen Python-Projekten spielen Typannotationen eine entscheidende Rolle bei der Verbesserung der Code-Qualität, Lesbarkeit und Wartbarkeit. Sie ermöglichen es Entwicklern, den Datentyp von Variablen, Funktionsparametern und Rückgabewerten explizit zu definieren, was nicht nur den Entwicklungsprozess erleichtert, sondern auch dazu beiträgt, potenzielle Fehler frühzeitig zu erkennen.\n",
    "<br>\n",
    "<br>\n",
    "Python ist eine dynamisch typisierte Sprache, was bedeutet, dass die Typen der Variablen zur Laufzeit bestimmt werden. Während diese Flexibilität viele Vorteile bietet, kann sie auch zu Unsicherheiten führen, insbesondere bei größeren Codebasen. Typannotationen schaffen Abhilfe, indem sie Klarheit über die erwarteten Daten schaffen und Entwicklerwerkzeuge wie IDEs und Linter unterstützen."
   ]
  },
  {
   "cell_type": "markdown",
   "metadata": {},
   "source": [
    "Bisher hatten wir die Datentypen: `int` und `str` gesehen, jedoch gibt es noch mehr wie zum Beispiel `bool` oder `bytes` (kommt in der Praxis selten vor). Betrachten wir folgendes Beispiel für eine Benutzerregistrierung:"
   ]
  },
  {
   "cell_type": "code",
   "execution_count": 9,
   "metadata": {},
   "outputs": [
    {
     "name": "stdout",
     "output_type": "stream",
     "text": [
      "{'name': 'Alice', 'age': 25, 'email': 'alice@example.com', 'is_active': True, 'status': 'registriert'}\n",
      "\n",
      "{\n",
      "    \"name\": \"Alice\",\n",
      "    \"age\": 25,\n",
      "    \"email\": \"alice@example.com\",\n",
      "    \"is_active\": true,\n",
      "    \"status\": \"registriert\"\n",
      "}\n"
     ]
    }
   ],
   "source": [
    "import json # Um die Ausgabe der funktion als json-Objekt zu formatieren\n",
    "\n",
    "def register_user(name: str, age: int, email: str, is_active: bool = True) -> dict:\n",
    "    \"\"\"\n",
    "    Registriert einen Benutzer und gibt die Registrierungsdetails zurück.\n",
    "\n",
    "    :param name: Der Name des Benutzers (str).\n",
    "    :param age: Das Alter des Benutzers (int).\n",
    "    :param email: Die E-Mail-Adresse des Benutzers (str).\n",
    "    :param is_active: Gibt an, ob der Benutzer aktiv ist (bool, Standardwert True).\n",
    "    :return: Ein Wörterbuch mit den Benutzerdaten (dict).\n",
    "    \"\"\"\n",
    "    if age < 18:\n",
    "        return {\"error\": \"Benutzer muss mindestens 18 Jahre alt sein\"}\n",
    "\n",
    "    return {\n",
    "        \"name\": name,\n",
    "        \"age\": age,\n",
    "        \"email\": email,\n",
    "        \"is_active\": is_active,\n",
    "        \"status\": \"registriert\"\n",
    "    }\n",
    "\n",
    "user_data = register_user(\"Alice\", 25, \"alice@example.com\")\n",
    "print(user_data)\n",
    "print()\n",
    "user_data_json = json.dumps(user_data, indent=4, ensure_ascii=False)\n",
    "print(user_data_json)"
   ]
  },
  {
   "cell_type": "markdown",
   "metadata": {},
   "source": [
    "Erklärung der Typannotationen\n",
    "- name: `str` Der Name des Benutzers muss eine Zeichenkette (str) sein.\n",
    "- age: `int` Das Alter muss eine Ganzzahl (int) sein.\n",
    "- email: `str` Die E-Mail-Adresse muss eine Zeichenkette (str) sein.\n",
    "- is_active: `bool` Optionaler Parameter, der einen Wahrheitswert (bool) angibt, ob der Benutzer aktiv ist.Standardwert ist True.\n",
    "- Rückgabe: `-> dict` Die Funktion gibt ein Wörterbuch (dict) mit den Benutzerdaten oder einer Fehlermeldung zurück.\n"
   ]
  },
  {
   "cell_type": "markdown",
   "metadata": {},
   "source": [
    "## Generische Typen\n",
    "\n",
    "Generische Typen in Python ermöglichen es, Funktionen und Klassen so zu gestalten, dass sie mit verschiedenen Datentypen arbeiten können, ohne den genauen Typ im Voraus festzulegen. Dies fördert die Wiederverwendbarkeit und Flexibilität des Codes.\n",
    "<br>\n",
    "<br>\n",
    "Einige Datenstrukturen wie zum Beispiel `dict`, `list`, `set` oder `tuple` können unterschiedliche Werte beinhalten, welcher wiederum vom unterschiedlichen Datentyp sein können. Mit generischen Typen können wir spezifizieren, welchen Typ die Elemente der Liste haben sollen. Man verwendet in der Python Welt häufig das `typing` Modul. Dieses Modul ist ein Standardmodul in Python, das eingeführt wurde, um Typannotationen zu unterstützen. Es bietet Werkzeuge und Klassen, mit denen man den Typ von Variablen, Funktionsparametern, Rückgabewerten und komplexen Datenstrukturen definieren kann.\n",
    "<br>\n",
    "<br>\n",
    "Betrachten wir einige Beispiele:"
   ]
  },
  {
   "cell_type": "markdown",
   "metadata": {},
   "source": [
    "**List:**"
   ]
  },
  {
   "cell_type": "code",
   "execution_count": 12,
   "metadata": {},
   "outputs": [
    {
     "name": "stdout",
     "output_type": "stream",
     "text": [
      "10\n"
     ]
    }
   ],
   "source": [
    "from typing import List\n",
    "\n",
    "def process_numbers(numbers: List[int]) -> int:\n",
    "    return sum(numbers)\n",
    "\n",
    "result = process_numbers([1, 2, 3, 4])  \n",
    "print(result)\n",
    "\n",
    "# Fehler: Erwartet eine Liste von Ganzzahlen:\n",
    "# process_numbers([\"a\", \"b\"]) \n"
   ]
  },
  {
   "cell_type": "markdown",
   "metadata": {},
   "source": [
    "**Dictionary:**"
   ]
  },
  {
   "cell_type": "code",
   "execution_count": 17,
   "metadata": {},
   "outputs": [
    {
     "name": "stdout",
     "output_type": "stream",
     "text": [
      "{\n",
      "    \"Apfel\": 1.99,\n",
      "    \"Banane\": 0.7,\n",
      "    \"Zitrone\": 0.35,\n",
      "    \"Kirsche\": 1.49\n",
      "}\n"
     ]
    }
   ],
   "source": [
    "from typing import Dict\n",
    "import json\n",
    "\n",
    "def get_prices() -> Dict[str, float]:\n",
    "    data = {\"Apfel\": 1.99, \"Banane\": 0.7, \"Zitrone\": 0.35, \"Kirsche\": 1.49}\n",
    "    return json.dumps(data, indent=4, ensure_ascii=False)\n",
    "\n",
    "prices = get_prices()\n",
    "print(prices)\n"
   ]
  },
  {
   "cell_type": "markdown",
   "metadata": {},
   "source": [
    "**Tuple:**"
   ]
  },
  {
   "cell_type": "code",
   "execution_count": 18,
   "metadata": {},
   "outputs": [
    {
     "name": "stdout",
     "output_type": "stream",
     "text": [
      "(3, 7)\n"
     ]
    }
   ],
   "source": [
    "from typing import Tuple\n",
    "\n",
    "def create_point(x: int, y: int) -> Tuple[float, float]:\n",
    "    return (x, y)\n",
    "\n",
    "# Beispielaufruf\n",
    "point = create_point(3, 7)\n",
    "print(point)\n"
   ]
  },
  {
   "cell_type": "markdown",
   "metadata": {},
   "source": [
    "**Optional:**<br>\n",
    "Manchmal kann ein Wert fehlen, dann kann ein generischer Typ wie `Optional` verwendet werden.\n",
    "In dem folgenden Beispiel kann der Rückgabewert entweder ein `str` oder `None` sein."
   ]
  },
  {
   "cell_type": "code",
   "execution_count": 19,
   "metadata": {},
   "outputs": [
    {
     "name": "stdout",
     "output_type": "stream",
     "text": [
      "Alice\n",
      "None\n"
     ]
    }
   ],
   "source": [
    "from typing import Optional\n",
    "\n",
    "def find_user(user_id: int) -> Optional[str]:\n",
    "    \"\"\"\n",
    "    Findet einen Benutzer anhand der ID. Gibt None zurück, wenn der Benutzer nicht existiert.\n",
    "    \"\"\"\n",
    "    if user_id == 1:\n",
    "        return \"Alice\"\n",
    "    return None\n",
    "\n",
    "print(find_user(1))  \n",
    "print(find_user(2)) \n"
   ]
  },
  {
   "cell_type": "markdown",
   "metadata": {},
   "source": [
    "**Union:**<br>\n",
    "Ein Wert kann mehrere Typen haben. In dem folgenden Beispiel kann der Parameter `value`, entweder eine Ganzzahl (int) oder eine Zeichenkette (str) sein."
   ]
  },
  {
   "cell_type": "code",
   "execution_count": 20,
   "metadata": {},
   "outputs": [
    {
     "name": "stdout",
     "output_type": "stream",
     "text": [
      "Nummer: 42\n",
      "Text: Hallo\n"
     ]
    }
   ],
   "source": [
    "from typing import Union\n",
    "\n",
    "def process_value(value: Union[int, str]) -> str:\n",
    "    \"\"\"\n",
    "    Verarbeitet einen Wert, der entweder eine Ganzzahl oder eine Zeichenkette sein kann.\n",
    "    \"\"\"\n",
    "    if isinstance(value, int):\n",
    "        return f\"Nummer: {value}\"\n",
    "    return f\"Text: {value}\"\n",
    "\n",
    "print(process_value(42))  \n",
    "print(process_value(\"Hallo\"))\n"
   ]
  },
  {
   "cell_type": "markdown",
   "metadata": {},
   "source": [
    "**Klassen als Datentyp:**\n",
    "<br>\n",
    "Dies ist nützlich, um sicherzustellen, dass Variablen, Parameter und Rückgabewerte bestimmte Klassen (bzw. deren Instanzen) sind. Betrachten wir folgendes Beispiel, welches oft in der Praxis vorzufinden ist:\n"
   ]
  },
  {
   "cell_type": "code",
   "execution_count": 21,
   "metadata": {},
   "outputs": [
    {
     "name": "stdout",
     "output_type": "stream",
     "text": [
      "Bestellung 1 von Alice: Laptop, Tastatur, Maus\n",
      "Bestellung 1 von Alice mit 3 Artikeln wurde verarbeitet.\n"
     ]
    }
   ],
   "source": [
    "from typing import List\n",
    "\n",
    "class Customer:\n",
    "    def __init__(self, customer_id: int, name: str):\n",
    "        self.customer_id = customer_id\n",
    "        self.name = name\n",
    "\n",
    "    # Wird immer aufgerufen wenn \"print()\" verwendet wird:\n",
    "    def __str__(self) -> str:\n",
    "        return f\"Kunde {self.customer_id}: {self.name}\"\n",
    "\n",
    "class Order:\n",
    "    # Der Parameter \"customer\" ist vom Datentyp einer Klasse!\n",
    "    def __init__(self, order_id: int, customer: Customer, items: List[str]):\n",
    "        self.order_id = order_id\n",
    "        self.customer = customer\n",
    "        self.items = items\n",
    "\n",
    "    def __str__(self) -> str:\n",
    "        return (f\"Bestellung {self.order_id} von {self.customer.name}: \"\n",
    "                f\"{', '.join(self.items)}\")\n",
    "\n",
    "\n",
    "def process_order(order: Order) -> str:\n",
    "    \"\"\"\n",
    "    Verarbeitet eine Bestellung und gibt eine Bestätigung zurück.\n",
    "    :param order: Eine Bestellung vom Typ Order\n",
    "    :return: Eine Bestätigungsnachricht\n",
    "    \"\"\"\n",
    "    return (f\"Bestellung {order.order_id} von {order.customer.name} \"\n",
    "            f\"mit {len(order.items)} Artikeln wurde verarbeitet.\")\n",
    "\n",
    "# --- MAIN --- #\n",
    "customer_1 = Customer(101, \"Alice\")\n",
    "order_1 = Order(1, customer_1, [\"Laptop\", \"Tastatur\", \"Maus\"])\n",
    "\n",
    "print(order_1) \n",
    "print(process_order(order_1))\n"
   ]
  },
  {
   "cell_type": "markdown",
   "metadata": {},
   "source": [
    "## Grundlagen der Pydantic Bibliothek\n",
    "\n",
    "Pydantic ist eine Python-Bibliothek, die für Datenvalidierung und Datenserialisierung verwendet wird.\n",
    "<br>\n",
    "<br>\n",
    "- **Datenvalidierung:** Bedeutet, zu überprüfen, ob die Eingabedaten korrekt und vollständig sind. Sie stellt sicher, dass die Daten bestimmten Regeln, Formaten oder Typen entsprechen, bevor sie weiterverarbeitet werden.\n",
    "- **Datenserialisierung:** Bedeutet, Daten in ein formatgerechtes und übertragbares Format umzuwandeln, damit sie gespeichert, über Netzwerke gesendet oder mit anderen Systemen geteilt werden können.\n",
    "\n",
    "Datenalidierung ist wichtig weil:\n",
    "- Daten können aus externen Quellen kommen, z. B. Benutzereingaben, APIs, Dateien oder Datenbanken. Hier können die Daten Fehlerbehaftet sein oder nicht konsistent sein.\n",
    "- Falsche oder unvollständige Daten können zu Fehlern oder Sicherheitslücken führen.\n",
    "\n",
    "Datenserialisierung ist wichtig weil:\n",
    "- Für die Datenübertragung wichtig, damit verschiedene Systeme (z. B. APIs, Datenbanken) korrekt miteinander kommunizieren können.\n",
    "- Es wird sichergestellt, dass korrekte Daten in einer Datei oder Datenbank gespeichert werden, z. B. in JSON oder CSV.\n",
    "\n",
    "| Merkmal    | Datenvalidierung                                             | Datenserialisierung                                  |\n",
    "| ---------- | ------------------------------------------------------------ | ---------------------------------------------------- |\n",
    "| Zweck      | Überprüfung der Korrektheit und Vollständigkeit von Daten    | Umwandlung von Daten in übertragbare Formate         |\n",
    "| Beispiel   | Prüfen, ob eine Zahl größer als 0 ist oder ob ein Feld fehlt | Umwandlung eines Objekts in JSON für die Speicherung |\n",
    "| Verwendung | Sicherheit und Integrität der Eingabedaten                   | Kommunikation zwischen Systemen oder Speicherung     |\n",
    "| Tools      | Pydantic, Validators                                         | Pydantic, JSON, Pickle                               |\n",
    "\n",
    "Was ist nun der unterschied zwischen dem `pydantic` und dem `typing` Modul?\n",
    "\n",
    "| Merkmal                    | Pydantic                                                                                  | Typing                                                       |\n",
    "| -------------------------- | ----------------------------------------------------------------------------------------- | ------------------------------------------------------------ |\n",
    "| Zweck                      | Validierung und Konvertierung von Eingabedaten                                            | Beschreibung der Typen, keine Validierung oder Konvertierung |\n",
    "| Automatische Konvertierung | Kann Eingaben automatisch in die richtigen Typen umwandeln                                | Keine Konvertierung, Eingaben bleiben unverändert            |\n",
    "| Validierung                | Führt Laufzeitprüfungen durch, um die Datenintegrität sicherzustellen                     | Keine Laufzeitprüfung                                        |\n",
    "| Benutzung                  | Klassenbasiert (BaseModel)                                                                | Einfach als Typannotationen (int, List[str], etc.)           |\n",
    "| Fehlermeldungen            | Detaillierte Fehler bei ungültigen Eingaben                                               | Keine Fehlerprüfung                                          |\n",
    "| Integration mit Frameworks | Häufig in Frameworks wie FastAPI verwendet, um Eingaben zu validieren und zu konvertieren | Wird in Python-Typprüfern wie mypy verwendet                 |                                          \n",
    "\n",
    "Betrachten wir folgendes Beispiel:"
   ]
  },
  {
   "cell_type": "code",
   "execution_count": 9,
   "metadata": {},
   "outputs": [
    {
     "name": "stdout",
     "output_type": "stream",
     "text": [
      "{\n",
      "    \"id\": 123,\n",
      "    \"name\": \"Alice\",\n",
      "    \"signup_ts\": \"2023-12-27\",\n",
      "    \"is_active\": false\n",
      "}\n"
     ]
    }
   ],
   "source": [
    "from pydantic import BaseModel\n",
    "\n",
    "class User(BaseModel):\n",
    "    id: int\n",
    "    name: str\n",
    "    signup_ts: str\n",
    "    is_active: bool = True\n",
    "\n",
    "user_data = {\"id\": \"123\", \"name\": \"Alice\", \"signup_ts\": \"2023-12-27\", \"is_active\": \"false\"}\n",
    "user = User(**user_data) # Hier findet die Datenvalidierung statt\n",
    "serialized_user_json = user.model_dump_json(indent=4) # Hier findet eine Datenserialisierung statt\n",
    "print(serialized_user_json)"
   ]
  },
  {
   "cell_type": "markdown",
   "metadata": {},
   "source": [
    "1. **Codeblock:**\n",
    "\n",
    "```python\n",
    "    class User(BaseModel):\n",
    "    id: int\n",
    "    name: str\n",
    "    signup_ts: str\n",
    "    is_active: bool = True\n",
    "```\n",
    "\n",
    "- Definition der Klasse `User`:\n",
    "    - Die Klasse `User` erbt von `BaseModel`, was sie zu einem sogenannten Pydantic-Modell macht.\n",
    "    - Unter einem Pydantic-Modell versteht man eine Klasse welche von `BaseModel`erbt. Man spricht auch von einer Datenstruktur, welche die Eigenschaften (Felder) der daten beschreibt.\n",
    "- Jede Klasse, die von BaseModel erbt, unterstützt:\n",
    "    - Datenvalidierung: Überprüfung der Eingaben auf Übereinstimmung mit den Typannotationen (id, name, etc.).\n",
    "    - Datenserialisierung: Automatische Konvertierung von Eingabewerten in die erwarteten Typen.\n",
    "\n",
    "2. **Codeblock:**\n",
    "\n",
    "```python\n",
    "    user_data = {\"id\": \"123\", \"name\": \"Alice\", \"signup_ts\": \"2023-12-27\", \"is_active\": \"false\"}\n",
    "```\n",
    "\n",
    "- `user_data` ist ein Wörterbuch (dictionary) mit den Daten eines Benutzers.\n",
    "-  Die Datentypen im Wörterbuch stimmen nicht genau mit den Datenzypen überein, die in der Klasse `User` definiert sind:\n",
    "    - `id: \"123\"` ist ein String, sollte aber laut der `User` Klasse vom Datentyp Integer sein.\n",
    "    - `\"is_active\": \"false\"`ist ebenfalls ein String, sollte aber ein Boolean sein.\n",
    "\n",
    "3. **Codeblock:**\n",
    "\n",
    "```python\n",
    "    user = User(**user_data)\n",
    "```\n",
    "\n",
    "- Dieser Code erstellt eine Instanz der Klasse `User` und übergibt die Werte aus dem Wörterbuch user_data an den Konstruktor `(__init__)` der Klasse.\n",
    "- Das Doppelsternchen `(**)` ist ein Argumententpacker. Es wird verwendet, um ein Wörterbuch oder ein ähnliches Objekt zu entpacken und dessen Schlüssel-Wert-Paare als benannte Argumente (keyword arguments) an eine Funktion oder einen Konstruktor zu übergeben.\n",
    "- Pydantic übernimmt die übergebenen Argumente und führt eine Datenvalidierung durch:\n",
    "    - `id` wird überprüft, ob es eine int ist, und \"123\" wird in 123 (Ganzzahl) konvertiert.\n",
    "    - `name` wird überprüft, ob es ein str ist (dies ist bereits korrekt).\n",
    "    - Nach erfolgreicher Validierung und Konvertierung wird ein User-Objekt mit den validierten Daten erstellt.\n",
    "4. **Codeblock:**\n",
    "\n",
    "```python\n",
    "    serialized_user_json = user.model_dump_json(indent=4)\n",
    "```\n",
    "\n",
    "- Die Methode `model_dump_json` in Pydantic wird verwendet, um ein Pydantic-Modell direkt in einen JSON-String zu serialisieren. Dabei kann man das Format des JSON-Outputs anpassen, z. B. die Einrückung (über indent) für bessere Lesbarkeit."
   ]
  },
  {
   "cell_type": "markdown",
   "metadata": {},
   "source": [
    "### 1. Beispiel: "
   ]
  },
  {
   "cell_type": "code",
   "execution_count": 10,
   "metadata": {},
   "outputs": [
    {
     "name": "stdout",
     "output_type": "stream",
     "text": [
      "name='Laptop' price=1200.99 stock=10\n",
      "2 validation errors for Product\n",
      "price\n",
      "  Input should be greater than 0 [type=greater_than, input_value=-5, input_type=int]\n",
      "    For further information visit https://errors.pydantic.dev/2.10/v/greater_than\n",
      "stock\n",
      "  Input should be greater than or equal to 0 [type=greater_than_equal, input_value=-1, input_type=int]\n",
      "    For further information visit https://errors.pydantic.dev/2.10/v/greater_than_equal\n"
     ]
    }
   ],
   "source": [
    "from pydantic import BaseModel, Field\n",
    "\n",
    "class Product(BaseModel):\n",
    "    name: str\n",
    "    price: float = Field(..., gt=0, description=\"Price must be greater than 0\")\n",
    "    stock: int = Field(..., ge=0, description=\"Stock cannot be negative\")\n",
    "\n",
    "# Gültige Daten:\n",
    "product = Product(name=\"Laptop\", price=1200.99, stock=10)\n",
    "print(product)\n",
    "\n",
    "# Ungültige Daten:\n",
    "try:\n",
    "    Product(name=\"Laptop\", price=-5, stock=-1)\n",
    "except Exception as e:\n",
    "    print(e)\n"
   ]
  },
  {
   "cell_type": "markdown",
   "metadata": {},
   "source": [
    "**Definition des Product-Modells:**\n",
    "\n",
    "```python\n",
    "    class Product(BaseModel):\n",
    "    name: str\n",
    "    price: float = Field(..., gt=0, description=\"Price must be greater than 0\")\n",
    "    stock: int = Field(..., ge=0, description=\"Stock cannot be negative\")\n",
    "```\n",
    "\n",
    "- Der key `price`:\n",
    "    - Erwartet einen float-Wert für den Preis des Produkts.\n",
    "    - `Field`: Eine Funktion von Pydantic, die es ermöglicht, Feldern in einem Modell zusätzliche Einschränkungen (z. B. Mindestwerte, Beschreibungen) hinzuzufügen.\n",
    "    - `...`: Bedeutet, dass dieses Feld erforderlich ist (kein Standardwert).\n",
    "    - `gt=0:` Der Wert muss größer als 0 sein (gt = \"greater than\").\n",
    "    - `description`: Eine Beschreibung des Felds, die für Dokumentationszwecke nützlich ist.\n",
    "\n",
    "- Bei dem Produkt mit ungültigen Daten schlägt die Datenvalidierung fehl:\n",
    "    - `price=-5` verletzt die Einschränkung gt=0 (der Preis muss größer als 0 sein).\n",
    "    - `stock=-1` verletzt die Einschränkung ge=0 (der Lagerbestand darf nicht negativ sein)."
   ]
  },
  {
   "cell_type": "markdown",
   "metadata": {},
   "source": [
    "### 2. Beispiel:"
   ]
  },
  {
   "cell_type": "code",
   "execution_count": 13,
   "metadata": {},
   "outputs": [
    {
     "name": "stdout",
     "output_type": "stream",
     "text": [
      "{\n",
      "    \"id\": 1,\n",
      "    \"name\": \"Alice\",\n",
      "    \"addresses\": [\n",
      "        {\n",
      "            \"street\": \"123 Main St\",\n",
      "            \"city\": \"New York\",\n",
      "            \"zip_code\": \"10001\"\n",
      "        },\n",
      "        {\n",
      "            \"street\": \"456 Elm St\",\n",
      "            \"city\": \"Los Angeles\",\n",
      "            \"zip_code\": \"90001\"\n",
      "        }\n",
      "    ]\n",
      "}\n"
     ]
    }
   ],
   "source": [
    "from pydantic import BaseModel\n",
    "from typing import List\n",
    "\n",
    "class Address(BaseModel):\n",
    "    street: str\n",
    "    city: str\n",
    "    zip_code: str\n",
    "\n",
    "class User(BaseModel):\n",
    "    id: int\n",
    "    name: str\n",
    "    addresses: List[Address] # hier sieht man: Pydantic unterstützt verschachtelte Datenmodelle\n",
    "\n",
    "# Die Eingabedaten:\n",
    "user_data = {\n",
    "    \"id\": 1,\n",
    "    \"name\": \"Alice\",\n",
    "    \"addresses\": [\n",
    "        {\"street\": \"123 Main St\", \"city\": \"New York\", \"zip_code\": \"10001\"},\n",
    "        {\"street\": \"456 Elm St\", \"city\": \"Los Angeles\", \"zip_code\": \"90001\"},\n",
    "    ],\n",
    "}\n",
    "\n",
    "user = User(**user_data)\n",
    "serialized_user_json = user.model_dump_json(indent=4)\n",
    "print(serialized_user_json)"
   ]
  },
  {
   "cell_type": "markdown",
   "metadata": {},
   "source": [
    "### 3. Beispiel:"
   ]
  },
  {
   "cell_type": "code",
   "execution_count": 17,
   "metadata": {},
   "outputs": [
    {
     "name": "stdout",
     "output_type": "stream",
     "text": [
      "name='Conference' start_time=datetime.datetime(2024, 1, 1, 10, 0)\n",
      "<class 'datetime.datetime'>\n",
      "Startzeit (Datetime-Objekt): 2024-01-01 10:00:00\n"
     ]
    }
   ],
   "source": [
    "from pydantic import BaseModel\n",
    "from datetime import datetime\n",
    "\n",
    "class Event(BaseModel):\n",
    "    name: str\n",
    "    start_time: datetime\n",
    "\n",
    "# Die Eingabedaten (start_time ist interessant):\n",
    "event_data = {\"name\": \"Conference\", \"start_time\": \"2024-01-01 10:00:00\"}\n",
    "event = Event(**event_data)\n",
    "\n",
    "# Hier sehen wir das \"start_time\" ei datetime-Object ist:\n",
    "print(event) \n",
    "print(type(event.start_time)) # Pydatic konvertiert die Eingabedaten automatisch\n",
    "print(f\"Startzeit (Datetime-Objekt): {event.start_time}\")\n"
   ]
  },
  {
   "cell_type": "markdown",
   "metadata": {},
   "source": [
    "### 4. Beispiel:"
   ]
  },
  {
   "cell_type": "code",
   "execution_count": 20,
   "metadata": {},
   "outputs": [
    {
     "name": "stdout",
     "output_type": "stream",
     "text": [
      "{\n",
      "    \"id\": 1,\n",
      "    \"name\": \"Alice\",\n",
      "    \"status\": \"active\"\n",
      "}\n",
      "1 validation error for User\n",
      "status\n",
      "  Input should be 'active', 'inactive' or 'banned' [type=enum, input_value='unknown', input_type=str]\n",
      "    For further information visit https://errors.pydantic.dev/2.10/v/enum\n"
     ]
    }
   ],
   "source": [
    "from pydantic import BaseModel\n",
    "from enum import Enum\n",
    "\n",
    "# Mit Enum erzwingt man bestimmte Werte:\n",
    "class Status(str, Enum):\n",
    "    active = \"active\"\n",
    "    inactive = \"inactive\"\n",
    "    banned = \"banned\"\n",
    "\n",
    "class User(BaseModel):\n",
    "    id: int\n",
    "    name: str\n",
    "    status: Status\n",
    "\n",
    "# Gültige Eingabedaten:\n",
    "user = User(id=1, name=\"Alice\", status=\"active\")\n",
    "serialized_user_json = user.model_dump_json(indent=4)\n",
    "print(serialized_user_json)\n",
    "\n",
    "# Ungültige Eingabedaten:\n",
    "try:\n",
    "    User(id=2, name=\"Bob\", status=\"unknown\")\n",
    "except Exception as e:\n",
    "    print(e)\n"
   ]
  }
 ],
 "metadata": {
  "kernelspec": {
   "display_name": "venv",
   "language": "python",
   "name": "python3"
  },
  "language_info": {
   "codemirror_mode": {
    "name": "ipython",
    "version": 3
   },
   "file_extension": ".py",
   "mimetype": "text/x-python",
   "name": "python",
   "nbconvert_exporter": "python",
   "pygments_lexer": "ipython3",
   "version": "3.9.6"
  }
 },
 "nbformat": 4,
 "nbformat_minor": 2
}
