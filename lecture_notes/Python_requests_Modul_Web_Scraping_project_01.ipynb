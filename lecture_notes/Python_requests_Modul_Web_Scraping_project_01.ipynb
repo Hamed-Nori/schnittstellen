{
 "cells": [
  {
   "cell_type": "markdown",
   "metadata": {},
   "source": [
    "# Python requests-Modul: Web Scraping Projekt (Countries of the World)\n",
    "\n",
    "In diesem Projekt möchten wir bestimmte Daten von der folgenden Website extrahieren und analysieren: https://www.scrapethissite.com/pages/simple/\n",
    "\n",
    "\n"
   ]
  }
 ],
 "metadata": {
  "language_info": {
   "name": "python"
  }
 },
 "nbformat": 4,
 "nbformat_minor": 2
}
