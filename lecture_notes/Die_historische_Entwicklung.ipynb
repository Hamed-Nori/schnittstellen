{
 "cells": [
  {
   "cell_type": "markdown",
   "metadata": {},
   "source": [
    "# Die historische Entwicklung\n",
    "\n",
    "Die Entwicklung von APIs ist eng mit der Geschichte der Informatik und des Internets verknüpft. Um die Bedeutung von APIs vollständig zu erfassen, ist es hilfreich, ihre historische Entwicklung zu verstehen."
   ]
  }
 ],
 "metadata": {
  "language_info": {
   "name": "python"
  }
 },
 "nbformat": 4,
 "nbformat_minor": 2
}
