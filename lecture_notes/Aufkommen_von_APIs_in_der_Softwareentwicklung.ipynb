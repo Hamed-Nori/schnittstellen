{
 "cells": [
  {
   "cell_type": "markdown",
   "metadata": {},
   "source": [
    "# Aufkommen von APIs in der Softwareentwicklung\n",
    "\n",
    "Mit dem Fortschritt in der Softwareentwicklung und der Verbreitung von Programmiersprachen wie Fortran, COBOL und später C, wuchs der Bedarf an modularer Programmierung.\n",
    "<br>\n",
    "<br>\n",
    "Die modulare Programmierung ist ein Software-Entwicklungsparadigma, das darauf abzielt, komplexe Programme in kleinere, unabhängige und wiederverwendbare Einheiten zu zerlegen, die Module genannt werden. Jedes Modul hat eine klar definierte Funktion oder Aufgabe und kann unabhängig von anderen Modulen entwickelt, getestet und gewartet werden.  Entwickler erkannten, dass wiederverwendbare Codeblöcke die Effizienz steigern und Fehler reduzieren konnten.\n",
    "<br>\n",
    "<br>\n",
    "Der Zusammenhang zwischen modularer Programmierung und APIs liegt in der Notwendigkeit, klare Schnittstellen zwischen diesen Modulen zu definieren. Damit Module effektiv miteinander interagieren können, müssen sie über genau definierte Schnittstellen kommunizieren. Diese Schnittstellen legen fest, welche Funktionen und Daten ein Modul anderen Modulen zur Verfügung stellt und wie diese zu verwenden sind.\n",
    "\n",
    "<img src=\"../img/schnittstelle_03.png\" alt=\"schnittstelle\" width=\"300\">\n",
    "\n",
    "Application Programming Interfaces (APIs) entstanden als natürliche Erweiterung dieses Konzepts. APIs sind spezifische Schnittstellen, die es ermöglichen, dass Softwaremodule oder -komponenten miteinander kommunizieren und Funktionen oder Daten austauschen. Durch die Definition von APIs konnten Entwickler:\n",
    "\n",
    "- **Wiederverwendbarkeit erhöhen:**<br>\n",
    "  Einmal geschriebene Module konnten in verschiedenen Programmen oder Projekten wiederverwendet werden.\n",
    "\n",
    "- **Entwicklung beschleunigen:**<br>\n",
    "   Teams konnten gleichzeitig an verschiedenen Modulen arbeiten, solange die Schnittstellen definiert waren.\n",
    "\n",
    "- **Komplexität reduzieren:**<br>\n",
    "     Durch klare Schnittstellen wurde die interne Komplexität eines Moduls vor anderen verborgen, was die Wartbarkeit erhöhte.\n",
    "\n",
    "In den 1980er Jahren begannen Unternehmen wie Microsoft und Apple, APIs für ihre Betriebssysteme bereitzustellen. Diese APIs ermöglichten es Drittentwicklern, Software zu schreiben, die nahtlos mit dem Betriebssystem interagieren konnte, ohne die internen Details des Systems verstehen zu müssen.\n",
    "\n",
    "**Beispiel Windows API:** \n",
    "\n",
    "Das Windows API bot Entwicklern Funktionen zur Erstellung von Fenstern, zur Behandlung von Benutzereingaben und zur Kommunikation mit Hardwaregeräten. Anstatt eigenen Code für diese Aufgaben zu schreiben, konnten Entwickler die bereitgestellten APIs nutzen, was die Entwicklung von Anwendungen für Windows erheblich vereinfachte.\n",
    "\n",
    "Die Entwicklung von APIs war revolutionär, weil sie:<br>\n",
    "- ⁠Die Softwareentwicklung demokratisierte:<br>\n",
    "  Mehr Entwickler konnten Anwendungen für Plattformen (z.B. Windows) erstellen, was zu einer Vielzahl von Softwarelösungen führte.\n",
    "  \n",
    "- ⁠Ein Ökosystem schuf:<br>\n",
    "  Durch die Bereitstellung von APIs förderten Microsoft und Apple die Entwicklung eines breiten Spektrums von Anwendungen, was die Attraktivität ihrer Betriebssysteme erhöhte.\n",
    "\n",
    "- ⁠Standards etablierte:<br>\n",
    "   Einheitliche APIs sorgten für Konsistenz und Qualität in der Softwareentwicklung, da alle Anwendungen auf denselben Grundlagen aufbauten."
   ]
  }
 ],
 "metadata": {
  "language_info": {
   "name": "python"
  }
 },
 "nbformat": 4,
 "nbformat_minor": 2
}
