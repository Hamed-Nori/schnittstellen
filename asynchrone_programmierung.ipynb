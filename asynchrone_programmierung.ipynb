{
 "cells": [
  {
   "cell_type": "markdown",
   "metadata": {},
   "source": [
    "# Asynchrone und Synchrone Programmierung\n",
    "\n",
    "Asynchroner Code ermöglicht es einem Programm, Aufgaben zu unterbrechen, die lange dauern (z. B. das Warten auf eine Datenbank oder eine API), und währenddessen andere Arbeiten auszuführen. Dadurch wird die Zeit effizient genutzt.\n",
    "\n",
    "**Synchronous (synchron) vs. Asynchronous (asynchron):**\n",
    "- Synchron: Das Programm wartet, bis eine Aufgabe abgeschlossen ist, bevor es weitermacht.\n",
    "    - Beispiel: Stehen in einer Warteschlange, bis du an der Reihe bist.\n",
    "\n",
    "- Asynchron: Das Programm arbeitet weiter an anderen Aufgaben, während es auf eine langsame Aufgabe wartet.\n",
    "    - Beispiel: Bestellen im Restaurant und während der Zubereitung mit jemandem reden.\n",
    "\n",
    "**Warum ist Asynchronität für Web-APIs wichtig?**\n",
    "\n",
    "In Web-Anwendungen gibt es viele gleichzeitige Benutzer, und der Server verbringt viel Zeit mit dem Warten auf:\n",
    "\n",
    "- Eingaben von Benutzern.\n",
    "- Antworten von Datenbanken.\n",
    "- Rückmeldungen von APIs.\n",
    "\n",
    "Durch die Verwendung von asynchronem Code kann ein Server:\n",
    "\n",
    "- Während er auf eine Aufgabe wartet, andere Benutzer bedienen.\n",
    "- Die Ressourcen effizient nutzen.\n",
    "\n",
    "Die Grundidee der Asynchronen Programmierung in Python soll anhand eines beispiels erklärt werden. Dazu word eine Funktion `get_data()` erstellt. Sie muss mit dem Schlüsselwort `async` gekennzeichnet werden. Eine andere Funktion `fetch_data()` ruft die `get_data()` Funktion auf jedoch mit dem Schlüsselwort `await`. Dieses Schlüsselwort pausiert die Funktion bis die asynchrone Aufgabe abgeschlossen ist. Wichtig ist zu beachten das `await` nur bei Funktionen verwendet werden kann, welche mit `async´ gekennzeichnet sind!"
   ]
  },
  {
   "cell_type": "code",
   "execution_count": 12,
   "metadata": {},
   "outputs": [
    {
     "name": "stdout",
     "output_type": "stream",
     "text": [
      "Data retrieved\n"
     ]
    }
   ],
   "source": [
    "async def get_data():\n",
    "    return \"Data retrieved\"\n",
    "\n",
    "async def fetch_data():\n",
    "    data = await get_data()\n",
    "    print(data)\n",
    "\n",
    "await fetch_data()"
   ]
  },
  {
   "cell_type": "markdown",
   "metadata": {},
   "source": [
    "**Wie kann man sich asynchrone Aufgaben im Alltag vorstellen?**\n",
    "<br>\n",
    "<br>\n",
    "Stell dir vor, du bist in einem Café und möchtest eine Tasse Kaffee. Der Prozess des Kaffeezubereitens besteht aus mehreren Aufgaben:\n",
    "- Wasser kochen (dies dauert eine Weile).\n",
    "- Kaffee mahlen (dies dauert auch eine Weile).\n",
    "- Tasse und Zubehör vorbereiten (dies dauert nur kurz).\n",
    "\n",
    "Nun, um diesen Prozess zu verstehen, vergleichen wir, wie dies sowohl in einer synchronen als auch in einer asynchronen Welt funktioniert.\n",
    "\n",
    "**Synchrone Ausführung:**\n",
    "\n",
    "Wenn du die Aufgaben synchron ausführen würdest, würde das so aussehen:\n",
    "\n",
    "1. Schritt 1: Du stellst den Wasserkocher an, um Wasser zu kochen. Während das Wasser kocht, kannst du nichts anderes tun, du musst warten.\n",
    "2. Schritt 2: Sobald das Wasser kocht, beginnst du, den Kaffee zu mahlen. Auch hier musst du warten, bis der Kaffee gemahlen ist.\n",
    "3. Schritt 3: Nachdem du den Kaffee gemahlen hast, bereitest du die Tasse vor, um den Kaffee zu servieren.\n",
    "\n",
    "In diesem Fall würde der gesamte Prozess nacheinander ablaufen. Du kannst erst den nächsten Schritt tun, wenn der vorherige Schritt abgeschlossen ist.\n",
    "\n",
    "**Asynchrone Ausführung:**\n",
    "\n",
    "Im Gegensatz dazu, wenn du diesen Prozess asynchron ausführen würdest, könntest du mehrere Aufgaben gleichzeitig erledigen:\n",
    "\n",
    "1. Schritt 1: Du stellst den Wasserkocher an, um Wasser zu kochen.\n",
    "2. Schritt 2: Während das Wasser kocht, beginnst du, den Kaffee zu mahlen. Diese beiden Aufgaben laufen parallel, ohne dass du warten musst.\n",
    "3. Schritt 3: Während der Kaffee gemahlen wird, kannst du schon die Tasse und das Zubehör vorbereiten.\n",
    "\n",
    "In diesem Fall erledigen sich alle Aufgaben gleichzeitig. Du nutzt die Zeit, während das Wasser kocht und der Kaffee gemahlen wird, um andere Dinge zu tun.\n",
    "\n",
    "Dieses Beispiel könnte als Code in etwa so aussehen:"
   ]
  },
  {
   "cell_type": "code",
   "execution_count": 13,
   "metadata": {},
   "outputs": [
    {
     "name": "stdout",
     "output_type": "stream",
     "text": [
      "Wasser kocht...\n",
      "Kaffee wird gemahlen...\n",
      "Tasse wird vorbereitet...\n",
      "Tasse ist vorbereitet!\n",
      "Kaffee ist gemahlen!\n",
      "Wasser ist gekocht!\n"
     ]
    }
   ],
   "source": [
    "import asyncio\n",
    "\n",
    "async def kochendes_wasser():\n",
    "    print(\"Wasser kocht...\")\n",
    "    await asyncio.sleep(3) \n",
    "    print(\"Wasser ist gekocht!\")\n",
    "\n",
    "async def kaffee_mahlen():\n",
    "    print(\"Kaffee wird gemahlen...\")\n",
    "    await asyncio.sleep(2) \n",
    "    print(\"Kaffee ist gemahlen!\")\n",
    "\n",
    "async def tasse_vorbereiten():\n",
    "    print(\"Tasse wird vorbereitet...\")\n",
    "    await asyncio.sleep(1)\n",
    "    print(\"Tasse ist vorbereitet!\")\n",
    "\n",
    "async def kaffee_zubereiten():\n",
    "    await asyncio.gather(\n",
    "        kochendes_wasser(),\n",
    "        kaffee_mahlen(),\n",
    "        tasse_vorbereiten()\n",
    "    )\n",
    "\n",
    "# Hauptfunktion ausführen\n",
    "await kaffee_zubereiten()\n"
   ]
  },
  {
   "cell_type": "markdown",
   "metadata": {},
   "source": [
    "Schauen wir uns ein Beispiel an, wo wir mithilfe des `asyncio` Moduls asynchrone Aufgaben erzeugen:"
   ]
  },
  {
   "cell_type": "code",
   "execution_count": null,
   "metadata": {},
   "outputs": [
    {
     "name": "stdout",
     "output_type": "stream",
     "text": [
      "Task 1: Start fetching data...\n",
      "Task 2: Start fetching data...\n",
      "Task 3: Start fetching data...\n",
      "Task 3: Data retrieved\n",
      "Task 1: Data retrieved\n",
      "Task 2: Data retrieved\n"
     ]
    }
   ],
   "source": [
    "import asyncio\n",
    "\n",
    "async def get_data(task_name, delay):\n",
    "    print(f\"{task_name}: Start fetching data...\")\n",
    "    await asyncio.sleep(delay)  # Hier wird einfach nur eine Verzögerung simuliert\n",
    "    print(f\"{task_name}: Data retrieved\")\n",
    "\n",
    "async def main():\n",
    "    # Es werden mehrere Aufgaben gleichzeitig gestartet (möglich durch die \"gather\" Funktion):\n",
    "    await asyncio.gather(\n",
    "        get_data(\"Task 1\", 2),\n",
    "        get_data(\"Task 2\", 3),\n",
    "        get_data(\"Task 3\", 1), # Wird als erstes abgeschlossen weil sie nur 1 Sekunde dauert\n",
    "    )\n",
    "\n",
    "await main()\n"
   ]
  },
  {
   "cell_type": "markdown",
   "metadata": {},
   "source": [
    "**Warum ist asynchrone Programmierung wichtig für Schnittstellen?**\n",
    "\n",
    "Die Thematik der asynchronen Programmierung ist besonders wichtig für FastAPI bzw. allgemein für das Thema APIs. FastAPI nutzt asynchrone Funktionen, um gleichzeitig mehrere Anfragen zu verarbeiten. Dies ist besonders nützlich, wenn du eine hohe Anzahl von gleichzeitigen Anfragen (z. B. von Benutzern oder von anderen Systemen) effizient abwickeln möchtest.\n",
    "<br>\n",
    "<br>\n",
    "FastAPI verwendet asynchrone Funktionen (async def), um Anfragen parallel zu verarbeiten, ohne den Server zu blockieren. Dies führt zu einer viel besseren Skalierbarkeit und Leistung, insbesondere bei hohen Anfrageraten."
   ]
  },
  {
   "cell_type": "markdown",
   "metadata": {},
   "source": [
    "**1. Beispiel:**\n",
    "\n",
    "Eine Anwendung muss Wetterdaten aus 3 verschiedenen Städten abrufen. Anstatt die Anfragen nacheinander zu senden, ruft sie alle gleichzeitig ab."
   ]
  },
  {
   "cell_type": "code",
   "execution_count": 15,
   "metadata": {},
   "outputs": [
    {
     "name": "stdout",
     "output_type": "stream",
     "text": [
      "Start: Wetterdaten für Berlin abrufen...\n",
      "Start: Wetterdaten für München abrufen...\n",
      "Start: Wetterdaten für Hamburg abrufen...\n",
      "Wetterdaten für Hamburg erhalten!\n",
      "Wetterdaten für München erhalten!\n",
      "Wetterdaten für Berlin erhalten!\n",
      "Wetter in Berlin: Sonnig\n",
      "Wetter in München: Sonnig\n",
      "Wetter in Hamburg: Sonnig\n"
     ]
    }
   ],
   "source": [
    "import asyncio\n",
    "from pydantic import BaseModel\n",
    "\n",
    "# Pydantic-Modell für Wetterdaten\n",
    "class WeatherData(BaseModel):\n",
    "    city: str\n",
    "    status: str\n",
    "\n",
    "# Asynchrone Funktion zur Wetterabfrage\n",
    "async def fetch_weather(city, delay):\n",
    "    print(f\"Start: Wetterdaten für {city} abrufen...\")\n",
    "    await asyncio.sleep(delay)  # Simuliere Netzwerkverzögerung\n",
    "    print(f\"Wetterdaten für {city} erhalten!\")\n",
    "    # Rückgabe eines validierten Pydantic-Modells\n",
    "    return WeatherData(city=city, status=\"Sonnig\")\n",
    "\n",
    "# Hauptfunktion\n",
    "async def main():\n",
    "    # Starte mehrere Wetterabfragen gleichzeitig\n",
    "    results = await asyncio.gather(\n",
    "        fetch_weather(\"Berlin\", 3),\n",
    "        fetch_weather(\"München\", 2),\n",
    "        fetch_weather(\"Hamburg\", 1),\n",
    "    )\n",
    "\n",
    "    # Ausgabe der Ergebnisse\n",
    "    for weather in results:\n",
    "        print(f\"Wetter in {weather.city}: {weather.status}\")\n",
    "\n",
    "await main()\n"
   ]
  },
  {
   "cell_type": "markdown",
   "metadata": {},
   "source": [
    "**2. Beispiel:**\n",
    "\n",
    "Du hast eine Anwendung, in der Benutzer mehrere Dateien gleichzeitig hochladen können. Jede Datei muss validiert, verarbeitet und gespeichert werden."
   ]
  },
  {
   "cell_type": "code",
   "execution_count": 16,
   "metadata": {},
   "outputs": [
    {
     "name": "stdout",
     "output_type": "stream",
     "text": [
      "Start: Verarbeite image1.jpg (2.0 MB)...\n",
      "Start: Verarbeite video.mp4 (10.0 MB)...\n",
      "Start: Verarbeite document.pdf (1.5 MB)...\n",
      "Fertig: document.pdf verarbeitet!\n",
      "Fertig: image1.jpg verarbeitet!\n",
      "Fertig: video.mp4 verarbeitet!\n",
      "Datei: image1.jpg, Größe: 2.0 MB, Status: Erfolgreich\n",
      "Datei: video.mp4, Größe: 10.0 MB, Status: Erfolgreich\n",
      "Datei: document.pdf, Größe: 1.5 MB, Status: Erfolgreich\n"
     ]
    }
   ],
   "source": [
    "import asyncio\n",
    "from pydantic import BaseModel\n",
    "\n",
    "# Pydantic-Modell für die Dateimetadaten\n",
    "class FileMetadata(BaseModel):\n",
    "    filename: str\n",
    "    size_in_mb: float\n",
    "    status: str\n",
    "\n",
    "# Asynchrone Funktion zur Verarbeitung einer Datei\n",
    "async def process_file(filename, size_in_mb):\n",
    "    print(f\"Start: Verarbeite {filename} ({size_in_mb} MB)...\")\n",
    "    await asyncio.sleep(size_in_mb * 0.5)  # Simuliere Verarbeitung (0.5 Sek. pro MB)\n",
    "    print(f\"Fertig: {filename} verarbeitet!\")\n",
    "    return FileMetadata(filename=filename, size_in_mb=size_in_mb, status=\"Erfolgreich\")\n",
    "\n",
    "# Hauptfunktion\n",
    "async def main():\n",
    "    # Liste der hochgeladenen Dateien\n",
    "    uploaded_files = [\n",
    "        {\"filename\": \"image1.jpg\", \"size_in_mb\": 2.0},\n",
    "        {\"filename\": \"video.mp4\", \"size_in_mb\": 10.0},\n",
    "        {\"filename\": \"document.pdf\", \"size_in_mb\": 1.5},\n",
    "    ]\n",
    "\n",
    "    # Starte die Verarbeitung aller Dateien gleichzeitig\n",
    "    results = await asyncio.gather(\n",
    "        *[process_file(file[\"filename\"], file[\"size_in_mb\"]) for file in uploaded_files]\n",
    "    )\n",
    "\n",
    "    # Ergebnisse anzeigen\n",
    "    for file_metadata in results:\n",
    "        print(f\"Datei: {file_metadata.filename}, Größe: {file_metadata.size_in_mb} MB, Status: {file_metadata.status}\")\n",
    "\n",
    "await main()\n"
   ]
  },
  {
   "cell_type": "markdown",
   "metadata": {},
   "source": [
    "**3. Beispiel:**\n",
    "\n",
    "Verarbeitung von Benutzerdaten und Transaktionshistorie:\n",
    "- Benutzerdaten: Enthält Informationen über den Benutzer (Name, Alter, E-Mail).\n",
    "- Transaktionen: Jede Transaktion enthält Details wie Transaktions-ID, Betrag und Typ (z. B. \"Einkauf\" oder \"Rückerstattung\").\n",
    "- Ziel ist es, die Daten zu validieren, die Gesamtsumme der Transaktionen pro Benutzer zu berechnen und diese Ergebnisse bereitzustellen.\n",
    "- Benutzer haben Transaktionshistorien, die aus einer Datenquelle (z. B. einer API oder einer Datenbank) asynchron abgerufen werden.\n",
    "- Die Verarbeitung der Transaktionen (z. B. Validierung und Berechnung) erfolgt parallel für mehrere Benutzer.\n",
    "\n",
    "`EmailStr` ist ein Feldtyp in Pydantic, der speziell für die Validierung von E-Mail-Adressen entwickelt wurde. Es stellt sicher, dass ein Wert eine gültige E-Mail-Adresse ist, und wird von der Bibliothek email-validator unterstützt, die detaillierte Prüfungen für E-Mail-Formate durchführt."
   ]
  },
  {
   "cell_type": "code",
   "execution_count": 18,
   "metadata": {},
   "outputs": [
    {
     "name": "stdout",
     "output_type": "stream",
     "text": [
      "Benutzerdaten für Benutzer 123 werden abgerufen...\n",
      "Benutzerdaten für Benutzer 456 werden abgerufen...\n",
      "Benutzerdaten für Benutzer 789 werden abgerufen...\n",
      "Benutzerdaten für Benutzer 123 abgerufen!\n",
      "Transaktionen für Benutzer 123 werden abgerufen...\n",
      "Benutzerdaten für Benutzer 456 abgerufen!\n",
      "Transaktionen für Benutzer 456 werden abgerufen...\n",
      "Benutzerdaten für Benutzer 789 abgerufen!\n",
      "Transaktionen für Benutzer 789 werden abgerufen...\n",
      "Transaktionen für Benutzer 123 abgerufen!\n",
      "Zusammenfassung für Benutzer 123:\n",
      "- Gesamtbetrag: 225.5\n",
      "- Anzahl der Transaktionen: 3\n",
      "Transaktionen für Benutzer 456 abgerufen!\n",
      "Zusammenfassung für Benutzer 456:\n",
      "- Gesamtbetrag: 225.5\n",
      "- Anzahl der Transaktionen: 3\n",
      "Transaktionen für Benutzer 789 abgerufen!\n",
      "Zusammenfassung für Benutzer 789:\n",
      "- Gesamtbetrag: 225.5\n",
      "- Anzahl der Transaktionen: 3\n",
      "Alle Benutzer verarbeitet!\n",
      "{'user_id': '123', 'total_amount': 225.5, 'transaction_count': 3}\n",
      "{'user_id': '456', 'total_amount': 225.5, 'transaction_count': 3}\n",
      "{'user_id': '789', 'total_amount': 225.5, 'transaction_count': 3}\n"
     ]
    }
   ],
   "source": [
    "import asyncio\n",
    "from pydantic import BaseModel, EmailStr, Field\n",
    "from typing import List\n",
    "\n",
    "# Modell für eine einzelne Transaktion\n",
    "class Transaction(BaseModel):\n",
    "    transaction_id: str = Field(..., description=\"Eindeutige ID der Transaktion\")\n",
    "    amount: float = Field(..., ge=0, description=\"Betrag der Transaktion, muss positiv sein\")\n",
    "    transaction_type: str = Field(..., description=\"Typ der Transaktion, z. B. Einkauf oder Rückerstattung\")\n",
    "\n",
    "# Modell für einen Benutzer\n",
    "class User(BaseModel):\n",
    "    user_id: str = Field(..., description=\"Eindeutige ID des Benutzers\")\n",
    "    name: str\n",
    "    age: int = Field(..., ge=0, description=\"Alter des Benutzers, muss positiv sein\")\n",
    "    email: EmailStr\n",
    "    transactions: List[Transaction]\n",
    "\n",
    "# Simuliere den asynchronen Abruf von Transaktionsdaten\n",
    "async def fetch_transactions(user_id: str):\n",
    "    print(f\"Transaktionen für Benutzer {user_id} werden abgerufen...\")\n",
    "    await asyncio.sleep(2)  # Simuliere Netzwerkverzögerung\n",
    "    print(f\"Transaktionen für Benutzer {user_id} abgerufen!\")\n",
    "    # Beispiel-Daten für Transaktionen\n",
    "    return [\n",
    "        {\"transaction_id\": f\"t1_{user_id}\", \"amount\": 120.50, \"transaction_type\": \"Einkauf\"},\n",
    "        {\"transaction_id\": f\"t2_{user_id}\", \"amount\": 75.0, \"transaction_type\": \"Einkauf\"},\n",
    "        {\"transaction_id\": f\"t3_{user_id}\", \"amount\": 30.0, \"transaction_type\": \"Rückerstattung\"}\n",
    "    ]\n",
    "\n",
    "# Simuliere den asynchronen Abruf von Benutzerdaten\n",
    "async def fetch_user(user_id: str):\n",
    "    print(f\"Benutzerdaten für Benutzer {user_id} werden abgerufen...\")\n",
    "    await asyncio.sleep(1)  # Simuliere Netzwerkverzögerung\n",
    "    print(f\"Benutzerdaten für Benutzer {user_id} abgerufen!\")\n",
    "    # Beispiel-Benutzerdaten\n",
    "    return {\n",
    "        \"user_id\": user_id,\n",
    "        \"name\": f\"Benutzer {user_id}\",\n",
    "        \"age\": 30,\n",
    "        \"email\": f\"user{user_id}@example.com\",\n",
    "        \"transactions\": await fetch_transactions(user_id)  # Transaktionsdaten abrufen\n",
    "    }\n",
    "\n",
    "# Asynchrone Verarbeitung eines Benutzers\n",
    "async def process_user(user_id: str):\n",
    "    user_data = await fetch_user(user_id)  # Benutzerdaten abrufen\n",
    "    user = User(**user_data)  # Validierung der Benutzerdaten mit Pydantic\n",
    "    total_amount = sum(t.amount for t in user.transactions)\n",
    "    print(f\"Zusammenfassung für {user.name}:\")\n",
    "    print(f\"- Gesamtbetrag: {total_amount}\")\n",
    "    print(f\"- Anzahl der Transaktionen: {len(user.transactions)}\")\n",
    "    return {\n",
    "        \"user_id\": user.user_id,\n",
    "        \"total_amount\": total_amount,\n",
    "        \"transaction_count\": len(user.transactions)\n",
    "    }\n",
    "\n",
    "# Hauptfunktion zur Verarbeitung mehrerer Benutzer\n",
    "async def main():\n",
    "    user_ids = [\"123\", \"456\", \"789\"]  # Beispiel-Benutzer-IDs\n",
    "    results = await asyncio.gather(*(process_user(user_id) for user_id in user_ids))\n",
    "    print(\"Alle Benutzer verarbeitet!\")\n",
    "    for result in results:\n",
    "        print(result)\n",
    "\n",
    "await main()\n"
   ]
  }
 ],
 "metadata": {
  "kernelspec": {
   "display_name": "venv",
   "language": "python",
   "name": "python3"
  },
  "language_info": {
   "codemirror_mode": {
    "name": "ipython",
    "version": 3
   },
   "file_extension": ".py",
   "mimetype": "text/x-python",
   "name": "python",
   "nbconvert_exporter": "python",
   "pygments_lexer": "ipython3",
   "version": "3.9.6"
  }
 },
 "nbformat": 4,
 "nbformat_minor": 2
}
