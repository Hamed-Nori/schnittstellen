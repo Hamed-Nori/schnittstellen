{
 "cells": [
  {
   "cell_type": "markdown",
   "metadata": {},
   "source": [
    "Wir bleiben weiterhin bei dem Beispiel mit der Bücherverwaltung, jedoch werden wir einige neue Themen besprechen. Wir werden unser Projekt mit Exceptions (Ausnahmebehandlung), status codes, Objekten und mit der Validierung der request-Objekte verfeinern. Es sind also noch genügend Themen vorhanden, welche die Qualität der API-Entwicklung enorm beeinflussen.\n",
    "<br>\n",
    "<br>\n",
    "Wir gehen nun das Projekt etwas anders an und erstellen für unsere Bücher direkt eine Klasse mit einem Konstruktor.\n",
    "So sieht erstmal die Ausgangslage aus:"
   ]
  },
  {
   "cell_type": "code",
   "execution_count": 3,
   "metadata": {},
   "outputs": [],
   "source": [
    "from fastapi import FastAPI, Body\n",
    "from pydantic import BaseModel\n",
    "\n",
    "app = FastAPI()\n",
    "\n",
    "class Book(BaseModel):\n",
    "    id: int\n",
    "    title: str\n",
    "    author: str\n",
    "    description: str\n",
    "    rating: int\n",
    "\n",
    "BOOKS = [\n",
    "    Book(id=1, title=\"Computer Science Pro\", author=\"Jackson\", description=\"A very nice book!\", rating=5),\n",
    "    Book(id=2, title=\"Be fast with FastAPI\", author=\"Gandalf\", description=\"A great book!\", rating=5),\n",
    "    Book(id=3, title=\"Master Endpoints\", author=\"Jackson\", description=\"An awesome book!\", rating=5),\n",
    "    Book(id=4, title=\"HP1\", author=\"Author 1\", description=\"Book Description\", rating=2),\n",
    "    Book(id=5, title=\"HP2\", author=\"Author 2\", description=\"Book Description\", rating=3),\n",
    "    Book(id=6, title=\"HP3\", author=\"Author 3\", description=\"Book Description\", rating=1),\n",
    "]\n",
    "\n",
    "@app.get(\"/books\")\n",
    "async def read_all_books():\n",
    "    return BOOKS\n",
    "\n",
    "\n",
    "@app.post(\"/create_book\")\n",
    "async def create_book(book_request: Book):\n",
    "    BOOKS.append(book_request)"
   ]
  },
  {
   "cell_type": "markdown",
   "metadata": {},
   "source": [
    "**Erklärung des Codes:**\n",
    "\n",
    "Hier wird etwas neues importiert was wir bisher nicht genutzt hatten:\n",
    "```python\n",
    "    from fastapi import FastAPI, Body\n",
    "```\n",
    "\n",
    "Body Wird verwendet, um den Inhalt des HTTP-Request (Body) zu extrahieren und zu verarbeiten. In diesem Fall hilft es dabei, die Daten des Buches zu empfangen, die in einem POST-Request gesendet werden.\n",
    "<br>\n",
    "<br>\n",
    "Die Book-Klasse definiert das Datenmodell für ein Buch mit bestimmten Attributen. Außerdem befindet sich innerhalb der Klasse ein Konstruktor `__init__()`, welcher verwendet wird um bei der Erstellung eines buch-Objekts, die Attribute zu initialisieren.\n",
    "<br>\n",
    "<br>\n",
    "Was bisher ebenfalls nicht genutzt wurde ist die folgende Schreibweise: `book_request=Body()`. FastAPI übernimmt die Konvertierung des Request-Bodys in ein Book-Objekt. Der Body()-Wrapper sagt FastAPI, dass die Daten aus dem HTTP-Request-Body extrahiert werden sollen.\n",
    "<br>\n",
    "<br>\n",
    "Jetzt können wir den POST-Request testen mit den Daten:\n",
    "\n",
    "```json\n",
    "{\n",
    "    \"id\": 7,\n",
    "    \"title\": \"HP4\",\n",
    "    \"author\": \"Author 3\",\n",
    "    \"description\": \"Book Description\",\n",
    "    \"rating\": 1\n",
    "}\n",
    "```\n",
    "\n",
    "Mithilfe des GET-Requests sollte jetzt ein Eintrag mehr vorhanden sein. Alles funktioniert erstmal wie bisher. Doch was wenn wir nicht valide Daten bei dem POST-Request verwenden? Nehmen wir als Beispiel den folgenden Body:\n",
    "\n",
    "```json\n",
    "{\n",
    "    \"id\": -90,\n",
    "    \"title\": \"HP4\",\n",
    "    \"author\": \"Author 3\",\n",
    "    \"description\": \"Book Description\",\n",
    "    \"rating\": 1999\n",
    "}\n",
    "```\n",
    "\n",
    "Das Anlegen des Buches war ebenfalls erfolgreich! Wie können wir nun dieses Problem lösen? Wie brauchen also eine Art von Datenvalidierung.\n",
    "Für diesen Fall hatten wir Pydantics kennen gelernt, jetzt können wir es richtig in der Praxis anwenden."
   ]
  }
 ],
 "metadata": {
  "kernelspec": {
   "display_name": "venv",
   "language": "python",
   "name": "python3"
  },
  "language_info": {
   "codemirror_mode": {
    "name": "ipython",
    "version": 3
   },
   "file_extension": ".py",
   "mimetype": "text/x-python",
   "name": "python",
   "nbconvert_exporter": "python",
   "pygments_lexer": "ipython3",
   "version": "3.9.6"
  }
 },
 "nbformat": 4,
 "nbformat_minor": 2
}
